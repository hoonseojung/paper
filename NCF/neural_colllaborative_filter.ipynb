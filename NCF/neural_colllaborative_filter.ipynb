{
 "cells": [
  {
   "cell_type": "code",
   "execution_count": 1,
   "metadata": {},
   "outputs": [
    {
     "data": {
      "text/plain": [
       "'/home/sslab/anaconda3/bin/python'"
      ]
     },
     "execution_count": 1,
     "metadata": {},
     "output_type": "execute_result"
    }
   ],
   "source": [
    "import sys\n",
    "sys.executable"
   ]
  },
  {
   "cell_type": "code",
   "execution_count": 2,
   "metadata": {},
   "outputs": [],
   "source": [
    "import numpy as np\n",
    "import pandas as pd\n",
    "\n",
    "import torch\n",
    "import torch.nn as nn\n",
    "import warnings\n",
    "from tqdm import tqdm\n",
    "\n",
    "warnings.filterwarnings(action='ignore')\n",
    "\n",
    "weight_dir = '/media/sslab/1390f618-020d-402b-871b-0238fac8293c/Atomy/hoonseo/ncf_weight/'"
   ]
  },
  {
   "cell_type": "code",
   "execution_count": 3,
   "metadata": {},
   "outputs": [
    {
     "data": {
      "text/html": [
       "<div>\n",
       "<style scoped>\n",
       "    .dataframe tbody tr th:only-of-type {\n",
       "        vertical-align: middle;\n",
       "    }\n",
       "\n",
       "    .dataframe tbody tr th {\n",
       "        vertical-align: top;\n",
       "    }\n",
       "\n",
       "    .dataframe thead th {\n",
       "        text-align: right;\n",
       "    }\n",
       "</style>\n",
       "<table border=\"1\" class=\"dataframe\">\n",
       "  <thead>\n",
       "    <tr style=\"text-align: right;\">\n",
       "      <th></th>\n",
       "      <th>userId</th>\n",
       "      <th>movieId</th>\n",
       "      <th>rating</th>\n",
       "      <th>timestamp</th>\n",
       "    </tr>\n",
       "  </thead>\n",
       "  <tbody>\n",
       "    <tr>\n",
       "      <th>0</th>\n",
       "      <td>1</td>\n",
       "      <td>1</td>\n",
       "      <td>4.0</td>\n",
       "      <td>964982703</td>\n",
       "    </tr>\n",
       "    <tr>\n",
       "      <th>1</th>\n",
       "      <td>1</td>\n",
       "      <td>3</td>\n",
       "      <td>4.0</td>\n",
       "      <td>964981247</td>\n",
       "    </tr>\n",
       "    <tr>\n",
       "      <th>2</th>\n",
       "      <td>1</td>\n",
       "      <td>6</td>\n",
       "      <td>4.0</td>\n",
       "      <td>964982224</td>\n",
       "    </tr>\n",
       "    <tr>\n",
       "      <th>3</th>\n",
       "      <td>1</td>\n",
       "      <td>47</td>\n",
       "      <td>5.0</td>\n",
       "      <td>964983815</td>\n",
       "    </tr>\n",
       "    <tr>\n",
       "      <th>4</th>\n",
       "      <td>1</td>\n",
       "      <td>50</td>\n",
       "      <td>5.0</td>\n",
       "      <td>964982931</td>\n",
       "    </tr>\n",
       "    <tr>\n",
       "      <th>5</th>\n",
       "      <td>1</td>\n",
       "      <td>70</td>\n",
       "      <td>3.0</td>\n",
       "      <td>964982400</td>\n",
       "    </tr>\n",
       "    <tr>\n",
       "      <th>6</th>\n",
       "      <td>1</td>\n",
       "      <td>101</td>\n",
       "      <td>5.0</td>\n",
       "      <td>964980868</td>\n",
       "    </tr>\n",
       "    <tr>\n",
       "      <th>7</th>\n",
       "      <td>1</td>\n",
       "      <td>110</td>\n",
       "      <td>4.0</td>\n",
       "      <td>964982176</td>\n",
       "    </tr>\n",
       "    <tr>\n",
       "      <th>8</th>\n",
       "      <td>1</td>\n",
       "      <td>151</td>\n",
       "      <td>5.0</td>\n",
       "      <td>964984041</td>\n",
       "    </tr>\n",
       "    <tr>\n",
       "      <th>9</th>\n",
       "      <td>1</td>\n",
       "      <td>157</td>\n",
       "      <td>5.0</td>\n",
       "      <td>964984100</td>\n",
       "    </tr>\n",
       "  </tbody>\n",
       "</table>\n",
       "</div>"
      ],
      "text/plain": [
       "   userId  movieId  rating  timestamp\n",
       "0       1        1     4.0  964982703\n",
       "1       1        3     4.0  964981247\n",
       "2       1        6     4.0  964982224\n",
       "3       1       47     5.0  964983815\n",
       "4       1       50     5.0  964982931\n",
       "5       1       70     3.0  964982400\n",
       "6       1      101     5.0  964980868\n",
       "7       1      110     4.0  964982176\n",
       "8       1      151     5.0  964984041\n",
       "9       1      157     5.0  964984100"
      ]
     },
     "execution_count": 3,
     "metadata": {},
     "output_type": "execute_result"
    }
   ],
   "source": [
    "ratings_df = pd.read_csv('ratings.csv')\n",
    "ratings_df.head(10)"
   ]
  },
  {
   "cell_type": "code",
   "execution_count": 4,
   "metadata": {},
   "outputs": [
    {
     "name": "stdout",
     "output_type": "stream",
     "text": [
      "전체 User 수: 610\n",
      "전체 Item 수: 9724\n",
      "행렬의 희소성: 0.9830\n"
     ]
    }
   ],
   "source": [
    "num_user = ratings_df['userId'].nunique()\n",
    "num_item = ratings_df['movieId'].nunique()\n",
    "\n",
    "sparsity = 1 - len(ratings_df) / (num_user * num_item)\n",
    "\n",
    "print(f'전체 User 수: {num_user}')\n",
    "print(f'전체 Item 수: {num_item}')\n",
    "print(f'행렬의 희소성: {sparsity:.4f}')"
   ]
  },
  {
   "cell_type": "code",
   "execution_count": 5,
   "metadata": {},
   "outputs": [
    {
     "data": {
      "text/plain": [
       "Text(0.5, 1.0, 'Rating distribution')"
      ]
     },
     "execution_count": 5,
     "metadata": {},
     "output_type": "execute_result"
    },
    {
     "data": {
      "image/png": "[encoded data removed]",
      "text/plain": [
       "<Figure size 432x288 with 1 Axes>"
      ]
     },
     "metadata": {
      "needs_background": "light"
     },
     "output_type": "display_data"
    }
   ],
   "source": [
    "import seaborn as sns\n",
    "import matplotlib.pyplot as plt\n",
    "\n",
    "sns.histplot(ratings_df['rating'])\n",
    "plt.title('Rating distribution')"
   ]
  },
  {
   "cell_type": "markdown",
   "metadata": {},
   "source": [
    "### Dataset"
   ]
  },
  {
   "cell_type": "code",
   "execution_count": 6,
   "metadata": {},
   "outputs": [],
   "source": [
    "user_encoder, user_decoder = {}, {}\n",
    "for idx, user_id in enumerate(ratings_df['userId'].unique()):\n",
    "    user_encoder[user_id] = idx\n",
    "    user_decoder[idx] = user_id\n",
    "\n",
    "item_encoder, item_decoder = {}, {}\n",
    "for idx, item_id in enumerate(ratings_df['movieId'].unique()):\n",
    "    item_encoder[item_id] = idx\n",
    "    item_decoder[idx] = item_id"
   ]
  },
  {
   "cell_type": "code",
   "execution_count": 7,
   "metadata": {},
   "outputs": [],
   "source": [
    "ratings_df['en_userId'] = ratings_df['userId'].apply(lambda x : user_encoder[x])\n",
    "ratings_df['en_movieId'] = ratings_df['movieId'].apply(lambda x : item_encoder[x])"
   ]
  },
  {
   "cell_type": "code",
   "execution_count": 25,
   "metadata": {},
   "outputs": [],
   "source": [
    "def split_data(df, num_neg = 3):\n",
    "    # positive 1개당 negative sampling 3개\n",
    "    total_item_li = set([i for i in range(num_item)])\n",
    "    train_df = []\n",
    "    test_df = []\n",
    "    en_user_id_li = df['en_userId'].unique()\n",
    "    for en_user_id in tqdm(en_user_id_li):\n",
    "        pos_recomencder_li = df[df['en_userId'] == en_user_id]['en_movieId'].tolist()\n",
    "        neg_recomencder_li = np.random.choice(list(total_item_li - set(pos_recomencder_li)), num_neg * len(pos_recomencder_li), replace = False).tolist()\n",
    "        train_df += [[en_user_id, en_movieId, 1] for en_movieId in pos_recomencder_li[:-1]] + [[en_user_id, en_movieId, 0] for en_movieId in neg_recomencder_li]\n",
    "\n",
    "        neg_recomencder_li = np.random.choice(list(total_item_li - set(pos_recomencder_li)), 99, replace = False).tolist()\n",
    "        test_df += [[en_user_id, pos_recomencder_li[-1], 1]] + [[en_user_id, en_movieId, 0] for en_movieId in neg_recomencder_li]\n",
    "    \n",
    "    return train_df, test_df"
   ]
  },
  {
   "cell_type": "code",
   "execution_count": 9,
   "metadata": {},
   "outputs": [],
   "source": [
    "from torch.utils.data import Dataset\n",
    "from torch.utils.data import DataLoader\n",
    "\n",
    "class CustomDataset(Dataset):\n",
    "    def __init__(self, df):\n",
    "        self.df = df\n",
    "\n",
    "    def __len__(self):\n",
    "        return len(self.df)\n",
    "\n",
    "    def __getitem__(self, idx):\n",
    "        user = self.df[idx][0]\n",
    "        item = self.df[idx][1]\n",
    "        label = self.df[idx][2]\n",
    "\n",
    "        return user, item, label"
   ]
  },
  {
   "attachments": {},
   "cell_type": "markdown",
   "metadata": {},
   "source": [
    "### GMF(Generalized Matrix Factorization)"
   ]
  },
  {
   "cell_type": "code",
   "execution_count": 10,
   "metadata": {},
   "outputs": [],
   "source": [
    "class GMF(nn.Module):\n",
    "    def __init__(self, num_user, num_item, num_factor):\n",
    "        super(GMF, self).__init__()\n",
    "        self.user_emb = nn.Embedding(num_user, num_factor)\n",
    "        self.item_emb = nn.Embedding(num_item, num_factor)\n",
    "        \n",
    "        self.predict_layer = nn.Sequential(\n",
    "            nn.Linear(num_factor, 1, bias = False),\n",
    "            nn.Sigmoid()\n",
    "        )\n",
    "\n",
    "        self._init_weight_()\n",
    "    \n",
    "    def _init_weight_(self):\n",
    "        nn.init.normal_(self.user_emb.weight, std=0.01)\n",
    "        nn.init.normal_(self.item_emb.weight, std=0.01)\n",
    "        for m in self.predict_layer:\n",
    "            if isinstance(m, nn.Linear):\n",
    "                nn.init.kaiming_uniform_(m.weight, a=1, nonlinearity=\"sigmoid\")\n",
    "                # kaiming 초기화 : 정규 분포를 사용해 가중치를 초기화\n",
    "    \n",
    "    def forward(self, user, item):\n",
    "        user_emb = self.user_emb(user)\n",
    "        item_emb = self.item_emb(item)\n",
    "\n",
    "        output = self.predict_layer(user_emb * item_emb) # element-wise product\n",
    "\n",
    "        return output.view(-1)"
   ]
  },
  {
   "attachments": {},
   "cell_type": "markdown",
   "metadata": {},
   "source": [
    "### MLP(Multi Layer Perceptron)"
   ]
  },
  {
   "cell_type": "code",
   "execution_count": 11,
   "metadata": {},
   "outputs": [],
   "source": [
    "class MLP(nn.Module):\n",
    "    def __init__(self, num_user, num_item, num_factor, num_layers, dropout):\n",
    "        super(MLP, self).__init__()\n",
    "        self.dropout = dropout\n",
    "        self.user_emb = nn.Embedding(num_user, num_factor)\n",
    "        self.item_emb = nn.Embedding(num_item, num_factor)\n",
    "\n",
    "        MLP_modules = []\n",
    "        input_size = num_factor * 2\n",
    "        for _ in range(num_layers):\n",
    "            MLP_modules.append(nn.Dropout(p = self.dropout))\n",
    "            MLP_modules.append(nn.Linear(input_size, input_size // 2))\n",
    "            MLP_modules.append(nn.ReLU())\n",
    "            input_size = input_size // 2\n",
    "        self.MLP_layers = nn.Sequential(*MLP_modules)\n",
    "\n",
    "        self.predict_layer = nn.Sequential(\n",
    "            nn.Linear(input_size, 1, bias = False),\n",
    "            nn.Sigmoid()\n",
    "        )\n",
    "\n",
    "        self._init_weight_()\n",
    "    \n",
    "    def _init_weight_(self):\n",
    "        nn.init.normal_(self.user_emb.weight, std=0.01)\n",
    "        nn.init.normal_(self.item_emb.weight, std=0.01)\n",
    "        for m in self.MLP_layers:\n",
    "            if isinstance(m, nn.Linear):\n",
    "                nn.init.xavier_uniform_(m.weight)\n",
    "                # xavier 초기화 : hidden layer의 노드 수에 따라 다른 표준 편차를 할당하여 가중치 초기화\n",
    "        \n",
    "        for m in self.predict_layer:\n",
    "            if isinstance(m, nn.Linear):\n",
    "                nn.init.kaiming_uniform_(m.weight, a=1, nonlinearity=\"sigmoid\")\n",
    "    \n",
    "    def forward(self, user, item):\n",
    "        user_emb = self.user_emb(user)\n",
    "        item_emb = self.item_emb(item)\n",
    "        \n",
    "        cat_emb = torch.cat((user_emb, item_emb), -1) # concat\n",
    "\n",
    "        output = self.MLP_layers(cat_emb)\n",
    "\n",
    "        output = self.predict_layer(output)\n",
    "\n",
    "        return output.view(-1)"
   ]
  },
  {
   "cell_type": "markdown",
   "metadata": {},
   "source": [
    "### NeuMF"
   ]
  },
  {
   "cell_type": "code",
   "execution_count": 12,
   "metadata": {},
   "outputs": [],
   "source": [
    "class NeuMF(nn.Module):\n",
    "    def __init__(self, GMF, MLP, num_factor):\n",
    "        super(NeuMF, self).__init__()\n",
    "        # GMF와 MLP 서로 다른 embedding layer\n",
    "        self.gmf_user_emb = GMF.user_emb\n",
    "        self.gmf_item_emb = GMF.item_emb\n",
    "\n",
    "        self.mlp_user_emb = MLP.user_emb\n",
    "        self.mlp_item_emb = MLP.item_emb\n",
    "\n",
    "        self.mlp_layer = MLP.MLP_layers # 마지막 predict layer\n",
    "\n",
    "        self.predict_layer = nn.Sequential(\n",
    "            nn.Linear(num_factor + (num_factor // 2), 1, bias = False),\n",
    "            nn.Sigmoid(),\n",
    "        )\n",
    "        self._init_weight_()\n",
    "    \n",
    "    def _init_weight_(self):\n",
    "        for m in self.predict_layer:\n",
    "            if isinstance(m, nn.Linear):\n",
    "                nn.init.kaiming_uniform_(m.weight, a=1, nonlinearity=\"sigmoid\")\n",
    "\n",
    "    def forward(self, user, item):\n",
    "        gmf_user_emb = self.gmf_user_emb(user)\n",
    "        gmf_item_emb = self.gmf_item_emb(item)\n",
    "        gmf_output = gmf_user_emb * gmf_item_emb # element-wise product\n",
    "\n",
    "        mlp_user_emb = self.mlp_user_emb(user)\n",
    "        mlp_item_emb = self.mlp_item_emb(item)\n",
    "        mlp_cat_emb = torch.cat((mlp_user_emb, mlp_item_emb), -1) # concat\n",
    "        mlp_output = self.mlp_layer(mlp_cat_emb)\n",
    "        \n",
    "        cat_output = torch.cat((gmf_output, mlp_output), -1) # concat\n",
    "\n",
    "        output = self.predict_layer(cat_output)\n",
    "\n",
    "        return output.view(-1)"
   ]
  },
  {
   "cell_type": "markdown",
   "metadata": {},
   "source": [
    "### train 설정"
   ]
  },
  {
   "cell_type": "code",
   "execution_count": 13,
   "metadata": {},
   "outputs": [],
   "source": [
    "def hit(target_item, pred_items):\n",
    "    if target_item in pred_items:\n",
    "        return 1\n",
    "    return 0\n",
    "\n",
    "def ndcg(target_item, pred_items):\n",
    "    if target_item in pred_items:\n",
    "        idx = pred_items.index(target_item)\n",
    "        # 초기 인덱스가 0이기 때문에 +2 함\n",
    "        return np.reciprocal(np.log2(idx + 2))\n",
    "    return 0\n",
    "\n",
    "def metrics(model, test_loader, top_k):\n",
    "    model.eval()\n",
    "    HR, NDCG = [], []\n",
    "    with torch.no_grad():\n",
    "        for user, item, _ in test_loader:\n",
    "            user = user.to(device)\n",
    "            item = item.to(device)\n",
    "\n",
    "            predictions = model(user, item)\n",
    "            # 가장 높은 top_k개 선택\n",
    "            _, indices = torch.topk(predictions, top_k)\n",
    "            # 해당 상품 index 선택\n",
    "            recommends = torch.take(item, indices).cpu().numpy().tolist()\n",
    "            # 정답값 선택\n",
    "            target_item = item[0].item()\n",
    "            HR.append(hit(target_item, recommends))\n",
    "            NDCG.append(ndcg(target_item, recommends))\n",
    "\n",
    "    return np.mean(HR), np.mean(NDCG)\n",
    "    \n",
    "def train(model, train_loader, criterion, optimizer):\n",
    "    model.train()\n",
    "    train_loss = 0\n",
    "\n",
    "    for user, item, label in train_loader:\n",
    "        user = user.to(device)\n",
    "        item = item.to(device)\n",
    "        label = label.to(device)\n",
    "        label = label.float()\n",
    "\n",
    "        optimizer.zero_grad()\n",
    "        output = model(user, item)\n",
    "        loss = criterion(output, label)\n",
    "\n",
    "        loss.backward()\n",
    "        optimizer.step()\n",
    "\n",
    "        train_loss += loss.item()\n",
    "    \n",
    "    train_loss = train_loss / len(train_loader)\n",
    "\n",
    "    return train_loss"
   ]
  },
  {
   "cell_type": "code",
   "execution_count": 30,
   "metadata": {},
   "outputs": [],
   "source": [
    "device = torch.device('cuda') if torch.cuda.is_available() else torch.device('cpu')\n",
    "batch_size = 256\n",
    "epochs = 30\n",
    "lr = 0.005\n",
    "num_factor = 64\n",
    "num_layers = 2\n",
    "dropout = 0.2\n",
    "top_k = 30\n",
    "num_neg = 2"
   ]
  },
  {
   "cell_type": "code",
   "execution_count": 31,
   "metadata": {},
   "outputs": [
    {
     "name": "stderr",
     "output_type": "stream",
     "text": [
      "100%|██████████| 610/610 [00:01<00:00, 364.29it/s]\n"
     ]
    }
   ],
   "source": [
    "train_df, test_df = split_data(df = ratings_df, num_neg = num_neg)"
   ]
  },
  {
   "cell_type": "code",
   "execution_count": 33,
   "metadata": {},
   "outputs": [
    {
     "data": {
      "text/plain": [
       "(301898, 61000)"
      ]
     },
     "execution_count": 33,
     "metadata": {},
     "output_type": "execute_result"
    }
   ],
   "source": [
    "len(train_df), len(test_df)"
   ]
  },
  {
   "cell_type": "code",
   "execution_count": 34,
   "metadata": {},
   "outputs": [],
   "source": [
    "train_dataset = CustomDataset(df = train_df)\n",
    "train_loader = DataLoader(train_dataset, batch_size = batch_size, shuffle = True, drop_last = False)\n",
    "\n",
    "test_dataset = CustomDataset(df = test_df)\n",
    "test_loader = DataLoader(test_dataset, batch_size = 100, shuffle = False, drop_last = False)"
   ]
  },
  {
   "attachments": {},
   "cell_type": "markdown",
   "metadata": {},
   "source": [
    "### GMF + MLP pre-train"
   ]
  },
  {
   "cell_type": "code",
   "execution_count": 36,
   "metadata": {},
   "outputs": [],
   "source": [
    "gmf = GMF(num_user = num_user, num_item = num_item, num_factor = num_factor).to(device)\n",
    "gmf_optimizer = torch.optim.Adam(gmf.parameters(), lr = lr)\n",
    "\n",
    "mlp = MLP(num_user = num_user, num_item = num_item, num_factor = num_factor, num_layers = num_layers, dropout = dropout).to(device)\n",
    "mlp_optimizer = torch.optim.Adam(mlp.parameters(), lr = lr)\n",
    "\n",
    "loss_fc = nn.BCELoss() # Binary Cross Entropy Loss"
   ]
  },
  {
   "cell_type": "code",
   "execution_count": 37,
   "metadata": {},
   "outputs": [
    {
     "name": "stdout",
     "output_type": "stream",
     "text": [
      "[EPOCH: 1], GMF Train Loss: 0.4661, MLP Train Loss: 0.4408, GMF HR: 0.7590, MLP HR: 0.7262, GMF NDCG: 0.3468, MLP NDCG: 0.3355\n",
      "[EPOCH: 2], GMF Train Loss: 0.2598, MLP Train Loss: 0.3997, GMF HR: 0.7738, MLP HR: 0.7328, GMF NDCG: 0.3444, MLP NDCG: 0.3346\n",
      "[EPOCH: 3], GMF Train Loss: 0.0774, MLP Train Loss: 0.3873, GMF HR: 0.7525, MLP HR: 0.7361, GMF NDCG: 0.3328, MLP NDCG: 0.3400\n",
      "[EPOCH: 4], GMF Train Loss: 0.0190, MLP Train Loss: 0.3691, GMF HR: 0.7525, MLP HR: 0.7410, GMF NDCG: 0.3393, MLP NDCG: 0.3453\n",
      "[EPOCH: 5], GMF Train Loss: 0.0046, MLP Train Loss: 0.3434, GMF HR: 0.7557, MLP HR: 0.7492, GMF NDCG: 0.3438, MLP NDCG: 0.3642\n",
      "[EPOCH: 6], GMF Train Loss: 0.0012, MLP Train Loss: 0.3180, GMF HR: 0.7623, MLP HR: 0.7426, GMF NDCG: 0.3467, MLP NDCG: 0.3511\n",
      "[EPOCH: 7], GMF Train Loss: 0.0003, MLP Train Loss: 0.2996, GMF HR: 0.7557, MLP HR: 0.7574, GMF NDCG: 0.3496, MLP NDCG: 0.3541\n",
      "[EPOCH: 8], GMF Train Loss: 0.0001, MLP Train Loss: 0.2870, GMF HR: 0.7574, MLP HR: 0.7475, GMF NDCG: 0.3495, MLP NDCG: 0.3625\n",
      "[EPOCH: 9], GMF Train Loss: 0.0001, MLP Train Loss: 0.2761, GMF HR: 0.7574, MLP HR: 0.7607, GMF NDCG: 0.3515, MLP NDCG: 0.3580\n",
      "[EPOCH: 10], GMF Train Loss: 0.0000, MLP Train Loss: 0.2686, GMF HR: 0.7574, MLP HR: 0.7541, GMF NDCG: 0.3526, MLP NDCG: 0.3589\n",
      "[EPOCH: 11], GMF Train Loss: 0.0000, MLP Train Loss: 0.2604, GMF HR: 0.7590, MLP HR: 0.7475, GMF NDCG: 0.3560, MLP NDCG: 0.3588\n",
      "[EPOCH: 12], GMF Train Loss: 0.0000, MLP Train Loss: 0.2541, GMF HR: 0.7590, MLP HR: 0.7508, GMF NDCG: 0.3601, MLP NDCG: 0.3590\n",
      "[EPOCH: 13], GMF Train Loss: 0.0000, MLP Train Loss: 0.2485, GMF HR: 0.7574, MLP HR: 0.7541, GMF NDCG: 0.3612, MLP NDCG: 0.3638\n",
      "[EPOCH: 14], GMF Train Loss: 0.0000, MLP Train Loss: 0.2430, GMF HR: 0.7557, MLP HR: 0.7541, GMF NDCG: 0.3629, MLP NDCG: 0.3589\n",
      "[EPOCH: 15], GMF Train Loss: 0.0000, MLP Train Loss: 0.2387, GMF HR: 0.7574, MLP HR: 0.7656, GMF NDCG: 0.3674, MLP NDCG: 0.3608\n",
      "[EPOCH: 16], GMF Train Loss: 0.0000, MLP Train Loss: 0.2343, GMF HR: 0.7557, MLP HR: 0.7459, GMF NDCG: 0.3683, MLP NDCG: 0.3555\n",
      "[EPOCH: 17], GMF Train Loss: 0.0000, MLP Train Loss: 0.2305, GMF HR: 0.7574, MLP HR: 0.7590, GMF NDCG: 0.3726, MLP NDCG: 0.3525\n",
      "[EPOCH: 18], GMF Train Loss: 0.0000, MLP Train Loss: 0.2269, GMF HR: 0.7590, MLP HR: 0.7607, GMF NDCG: 0.3762, MLP NDCG: 0.3617\n",
      "[EPOCH: 19], GMF Train Loss: 0.0000, MLP Train Loss: 0.2238, GMF HR: 0.7590, MLP HR: 0.7672, GMF NDCG: 0.3763, MLP NDCG: 0.3699\n",
      "[EPOCH: 20], GMF Train Loss: 0.0000, MLP Train Loss: 0.2199, GMF HR: 0.7607, MLP HR: 0.7607, GMF NDCG: 0.3719, MLP NDCG: 0.3663\n",
      "[EPOCH: 21], GMF Train Loss: 0.0000, MLP Train Loss: 0.2170, GMF HR: 0.7590, MLP HR: 0.7672, GMF NDCG: 0.3726, MLP NDCG: 0.3625\n",
      "[EPOCH: 22], GMF Train Loss: 0.0000, MLP Train Loss: 0.2145, GMF HR: 0.7590, MLP HR: 0.7672, GMF NDCG: 0.3711, MLP NDCG: 0.3566\n",
      "[EPOCH: 23], GMF Train Loss: 0.0000, MLP Train Loss: 0.2108, GMF HR: 0.7590, MLP HR: 0.7557, GMF NDCG: 0.3724, MLP NDCG: 0.3581\n",
      "[EPOCH: 24], GMF Train Loss: 0.0000, MLP Train Loss: 0.2092, GMF HR: 0.7590, MLP HR: 0.7639, GMF NDCG: 0.3702, MLP NDCG: 0.3711\n",
      "[EPOCH: 25], GMF Train Loss: 0.0000, MLP Train Loss: 0.2081, GMF HR: 0.7607, MLP HR: 0.7541, GMF NDCG: 0.3705, MLP NDCG: 0.3571\n",
      "[EPOCH: 26], GMF Train Loss: 0.0000, MLP Train Loss: 0.2054, GMF HR: 0.7607, MLP HR: 0.7672, GMF NDCG: 0.3759, MLP NDCG: 0.3569\n",
      "[EPOCH: 27], GMF Train Loss: 0.0000, MLP Train Loss: 0.2033, GMF HR: 0.7590, MLP HR: 0.7541, GMF NDCG: 0.3744, MLP NDCG: 0.3782\n",
      "[EPOCH: 28], GMF Train Loss: 0.0000, MLP Train Loss: 0.2009, GMF HR: 0.7590, MLP HR: 0.7672, GMF NDCG: 0.3778, MLP NDCG: 0.3716\n",
      "[EPOCH: 29], GMF Train Loss: 0.0000, MLP Train Loss: 0.1987, GMF HR: 0.7574, MLP HR: 0.7689, GMF NDCG: 0.3792, MLP NDCG: 0.3772\n",
      "[EPOCH: 30], GMF Train Loss: 0.0000, MLP Train Loss: 0.1962, GMF HR: 0.7557, MLP HR: 0.7721, GMF NDCG: 0.3772, MLP NDCG: 0.3628\n"
     ]
    }
   ],
   "source": [
    "gmf_best_metric = 0\n",
    "mlp_best_metric = 0\n",
    "\n",
    "for epoch in range(1, epochs + 1):\n",
    "    gmf_train_loss = train(model = gmf, train_loader = train_loader, criterion = loss_fc, optimizer = gmf_optimizer)\n",
    "    gmf_hr, gmf_ndcg = metrics(model = gmf, test_loader = test_loader, top_k = top_k)\n",
    "\n",
    "    mlp_train_loss = train(model = mlp, train_loader = train_loader, criterion = loss_fc, optimizer = mlp_optimizer)\n",
    "    mlp_hr, mlp_ndcg  = metrics(model = mlp, test_loader = test_loader, top_k = top_k)\n",
    "\n",
    "    print(f\"[EPOCH: {epoch}], GMF Train Loss: {gmf_train_loss:.4f}, MLP Train Loss: {mlp_train_loss:.4f}, GMF HR: {gmf_hr:.4f}, MLP HR: {mlp_hr:.4f}, GMF NDCG: {gmf_ndcg:.4f}, MLP NDCG: {mlp_ndcg:.4f}\")\n",
    "\n",
    "    if gmf_best_metric < gmf_ndcg:\n",
    "        gmf_best_metric = gmf_ndcg\n",
    "        torch.save(gmf.state_dict(), weight_dir + f'GMF.pt')\n",
    "\n",
    "    if mlp_best_metric < mlp_ndcg:\n",
    "        mlp_best_metric = mlp_ndcg\n",
    "        torch.save(mlp.state_dict(), weight_dir + f'MLP.pt')"
   ]
  },
  {
   "cell_type": "markdown",
   "metadata": {},
   "source": [
    "### NeuMF train"
   ]
  },
  {
   "cell_type": "code",
   "execution_count": 38,
   "metadata": {},
   "outputs": [],
   "source": [
    "# NeuMF 의 경우 pre-trained 모델을 사용한다고 함\n",
    "# 그리고 optimizer로 SGD를 사용한다고 함\n",
    "# 실제로 Adam 보다 더 좋은 성능을 보임\n",
    "\n",
    "gmf = GMF(num_user = num_user, num_item = num_item, num_factor = num_factor).to(device)\n",
    "gmf.load_state_dict(torch.load(weight_dir + f'GMF.pt'))\n",
    "\n",
    "mlp = MLP(num_user = num_user, num_item = num_item, num_factor = num_factor, num_layers = num_layers, dropout = dropout).to(device)\n",
    "mlp.load_state_dict(torch.load(weight_dir + f'MLP.pt'))\n",
    "\n",
    "nmf = NeuMF(GMF = gmf, MLP = mlp, num_factor = num_factor).to(device)\n",
    "nmf_optimizer = torch.optim.SGD(nmf.parameters(), lr = lr, momentum = 0.9) # SGD 사용"
   ]
  },
  {
   "cell_type": "code",
   "execution_count": 39,
   "metadata": {},
   "outputs": [
    {
     "name": "stdout",
     "output_type": "stream",
     "text": [
      "[EPOCH: 1], NeuMF Train Loss: 0.1268, NeuMF HR: 0.7639, NeuMF NDCG: 0.3875\n",
      "[EPOCH: 2], NeuMF Train Loss: 0.0594, NeuMF HR: 0.7770, NeuMF NDCG: 0.3848\n",
      "[EPOCH: 3], NeuMF Train Loss: 0.0381, NeuMF HR: 0.7738, NeuMF NDCG: 0.3828\n",
      "[EPOCH: 4], NeuMF Train Loss: 0.0278, NeuMF HR: 0.7787, NeuMF NDCG: 0.3811\n",
      "[EPOCH: 5], NeuMF Train Loss: 0.0218, NeuMF HR: 0.7705, NeuMF NDCG: 0.3757\n",
      "[EPOCH: 6], NeuMF Train Loss: 0.0178, NeuMF HR: 0.7738, NeuMF NDCG: 0.3741\n",
      "[EPOCH: 7], NeuMF Train Loss: 0.0152, NeuMF HR: 0.7721, NeuMF NDCG: 0.3725\n",
      "[EPOCH: 8], NeuMF Train Loss: 0.0131, NeuMF HR: 0.7738, NeuMF NDCG: 0.3730\n",
      "[EPOCH: 9], NeuMF Train Loss: 0.0116, NeuMF HR: 0.7689, NeuMF NDCG: 0.3740\n",
      "[EPOCH: 10], NeuMF Train Loss: 0.0103, NeuMF HR: 0.7705, NeuMF NDCG: 0.3722\n",
      "[EPOCH: 11], NeuMF Train Loss: 0.0093, NeuMF HR: 0.7721, NeuMF NDCG: 0.3724\n",
      "[EPOCH: 12], NeuMF Train Loss: 0.0085, NeuMF HR: 0.7705, NeuMF NDCG: 0.3719\n",
      "[EPOCH: 13], NeuMF Train Loss: 0.0078, NeuMF HR: 0.7689, NeuMF NDCG: 0.3729\n",
      "[EPOCH: 14], NeuMF Train Loss: 0.0073, NeuMF HR: 0.7689, NeuMF NDCG: 0.3720\n",
      "[EPOCH: 15], NeuMF Train Loss: 0.0068, NeuMF HR: 0.7754, NeuMF NDCG: 0.3731\n",
      "[EPOCH: 16], NeuMF Train Loss: 0.0063, NeuMF HR: 0.7705, NeuMF NDCG: 0.3722\n",
      "[EPOCH: 17], NeuMF Train Loss: 0.0059, NeuMF HR: 0.7738, NeuMF NDCG: 0.3710\n",
      "[EPOCH: 18], NeuMF Train Loss: 0.0056, NeuMF HR: 0.7721, NeuMF NDCG: 0.3724\n",
      "[EPOCH: 19], NeuMF Train Loss: 0.0053, NeuMF HR: 0.7721, NeuMF NDCG: 0.3723\n",
      "[EPOCH: 20], NeuMF Train Loss: 0.0050, NeuMF HR: 0.7721, NeuMF NDCG: 0.3722\n",
      "[EPOCH: 21], NeuMF Train Loss: 0.0048, NeuMF HR: 0.7721, NeuMF NDCG: 0.3715\n",
      "[EPOCH: 22], NeuMF Train Loss: 0.0045, NeuMF HR: 0.7705, NeuMF NDCG: 0.3714\n",
      "[EPOCH: 23], NeuMF Train Loss: 0.0043, NeuMF HR: 0.7689, NeuMF NDCG: 0.3701\n",
      "[EPOCH: 24], NeuMF Train Loss: 0.0041, NeuMF HR: 0.7705, NeuMF NDCG: 0.3720\n",
      "[EPOCH: 25], NeuMF Train Loss: 0.0039, NeuMF HR: 0.7705, NeuMF NDCG: 0.3713\n",
      "[EPOCH: 26], NeuMF Train Loss: 0.0038, NeuMF HR: 0.7705, NeuMF NDCG: 0.3708\n",
      "[EPOCH: 27], NeuMF Train Loss: 0.0036, NeuMF HR: 0.7721, NeuMF NDCG: 0.3698\n",
      "[EPOCH: 28], NeuMF Train Loss: 0.0035, NeuMF HR: 0.7705, NeuMF NDCG: 0.3713\n",
      "[EPOCH: 29], NeuMF Train Loss: 0.0034, NeuMF HR: 0.7705, NeuMF NDCG: 0.3705\n",
      "[EPOCH: 30], NeuMF Train Loss: 0.0033, NeuMF HR: 0.7705, NeuMF NDCG: 0.3698\n"
     ]
    }
   ],
   "source": [
    "nmf_best_metric = 0\n",
    "\n",
    "for epoch in range(1, epochs + 1):\n",
    "    nmf_train_loss = train(model = nmf, train_loader = train_loader, criterion = loss_fc, optimizer = nmf_optimizer)\n",
    "    nmf_hr, nmf_ndcg = metrics(model = nmf, test_loader = test_loader, top_k = top_k)\n",
    "\n",
    "    print(f\"[EPOCH: {epoch}], NeuMF Train Loss: {nmf_train_loss:.4f}, NeuMF HR: {nmf_hr:.4f}, NeuMF NDCG: {nmf_ndcg:.4f}\")\n",
    "\n",
    "    if nmf_best_metric < nmf_ndcg:\n",
    "        nmf_best_metric = nmf_ndcg\n",
    "        torch.save(nmf.state_dict(), weight_dir + f'NeuMF.pt')"
   ]
  },
  {
   "cell_type": "code",
   "execution_count": 31,
   "metadata": {},
   "outputs": [
    {
     "name": "stdout",
     "output_type": "stream",
     "text": [
      "NeuMF HR: 0.7705, NeuMF NDCG: 0.3941, \n",
      " MLP HR: 0.7705, MLP NDCG: 0.3986 \n",
      " GMF HR: 0.7508, GMF NDCG: 0.3722\n"
     ]
    }
   ],
   "source": [
    "nmf = NeuMF(GMF = gmf, MLP = mlp, num_factor = num_factor).to(device)\n",
    "nmf.load_state_dict(torch.load(weight_dir + f'NeuMF.pt'))\n",
    "\n",
    "gmf = GMF(num_user = num_user, num_item = num_item, num_factor = num_factor).to(device)\n",
    "gmf.load_state_dict(torch.load(weight_dir + f'GMF.pt'))\n",
    "\n",
    "mlp = MLP(num_user = num_user, num_item = num_item, num_factor = num_factor, num_layers = num_layers, dropout = dropout).to(device)\n",
    "mlp.load_state_dict(torch.load(weight_dir + f'MLP.pt'))\n",
    "\n",
    "gmf_hr, gmf_ndcg = metrics(model = gmf, test_loader = test_loader, top_k = top_k)\n",
    "mlp_hr, mlp_ndcg  = metrics(model = mlp, test_loader = test_loader, top_k = top_k)\n",
    "nmf_hr, nmf_ndcg = metrics(model = nmf, test_loader = test_loader, top_k = top_k)\n",
    "\n",
    "print(f\"NeuMF HR: {nmf_hr:.4f}, NeuMF NDCG: {nmf_ndcg:.4f}, \\n MLP HR: {mlp_hr:.4f}, MLP NDCG: {mlp_ndcg:.4f} \\n GMF HR: {gmf_hr:.4f}, GMF NDCG: {gmf_ndcg:.4f}\")"
   ]
  },
  {
   "cell_type": "code",
   "execution_count": null,
   "metadata": {},
   "outputs": [],
   "source": []
  }
 ],
 "metadata": {
  "kernelspec": {
   "display_name": "Python 3",
   "language": "python",
   "name": "python3"
  },
  "language_info": {
   "codemirror_mode": {
    "name": "ipython",
    "version": 3
   },
   "file_extension": ".py",
   "mimetype": "text/x-python",
   "name": "python",
   "nbconvert_exporter": "python",
   "pygments_lexer": "ipython3",
   "version": "3.8.8"
  }
 },
 "nbformat": 4,
 "nbformat_minor": 2
}
